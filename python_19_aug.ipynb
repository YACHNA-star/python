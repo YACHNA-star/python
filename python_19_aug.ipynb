{
  "nbformat": 4,
  "nbformat_minor": 0,
  "metadata": {
    "colab": {
      "provenance": []
    },
    "kernelspec": {
      "name": "python3",
      "display_name": "Python 3"
    },
    "language_info": {
      "name": "python"
    }
  },
  "cells": [
    {
      "cell_type": "code",
      "source": [
        "#Swap the integer values.\n",
        "x= int(input(\"enter first number\"))\n",
        "y= int(input(\"enter second number\"))\n",
        "print(\"x value is\",x,\"and y value is\",y)\n",
        "x= x+y\n",
        "y= x-y\n",
        "x= x-y\n",
        "print(\"now x value is\",x,\"and now y value is\",y)"
      ],
      "metadata": {
        "colab": {
          "base_uri": "https://localhost:8080/"
        },
        "id": "77r8bwETirlP",
        "outputId": "9879e54a-7f67-40a3-e9a5-b7653a6d57f8"
      },
      "execution_count": 8,
      "outputs": [
        {
          "output_type": "stream",
          "name": "stdout",
          "text": [
            "enter first number8\n",
            "enter second number9\n",
            "x value is 8 and y value is 9\n",
            "now x value is 9 and now y value is 8\n"
          ]
        }
      ]
    },
    {
      "cell_type": "code",
      "source": [
        "#area of a rectangle.\n",
        "x= int(input(\"enter length of a rectangle.\"))\n",
        "y= int(input(\"enter width of a rectangle.\"))\n",
        "print('area of rectangle is', x*y)"
      ],
      "metadata": {
        "colab": {
          "base_uri": "https://localhost:8080/"
        },
        "id": "DybMkh5JjQax",
        "outputId": "afa55908-d40a-4604-81bb-2f348a88e0e5"
      },
      "execution_count": 9,
      "outputs": [
        {
          "output_type": "stream",
          "name": "stdout",
          "text": [
            "enter length of a rectangle.7\n",
            "enter width of a rectangle.8\n",
            "area of rectangle is 56\n"
          ]
        }
      ]
    },
    {
      "cell_type": "code",
      "source": [
        "#converts temperature from Celsius to Fahrenheit.\n",
        "cel = float(input(\"Enter temperature in celsius \"))\n",
        "f = (cel*9/5)+32\n",
        "print(\"The Fahrenheit equivalent of \",cel,\"celsius = \", f)\n"
      ],
      "metadata": {
        "colab": {
          "base_uri": "https://localhost:8080/"
        },
        "id": "tpvY19rvxpgt",
        "outputId": "0f803954-63ae-41e7-a2bc-5c1261ef12a2"
      },
      "execution_count": 2,
      "outputs": [
        {
          "output_type": "stream",
          "name": "stdout",
          "text": [
            "Enter temperature in celsius 67.9\n",
            "The Fahrenheit equivalent of  67.9  celsius =  154.22\n"
          ]
        }
      ]
    },
    {
      "cell_type": "code",
      "source": [
        "#prints length of the string for given input string.\n",
        "s=input(\"enter your string\")\n",
        "print(len(s))"
      ],
      "metadata": {
        "colab": {
          "base_uri": "https://localhost:8080/"
        },
        "id": "b7SsyEEmlcrW",
        "outputId": "30d0162b-2fad-4ff8-93d0-36e640e3375d"
      },
      "execution_count": 5,
      "outputs": [
        {
          "output_type": "stream",
          "name": "stdout",
          "text": [
            "enter your stringyuctdyv\n",
            "7\n"
          ]
        }
      ]
    },
    {
      "cell_type": "code",
      "source": [
        "#counts the number of vowels (a, e, i, o, u) in the string.\n",
        "s = input(\"enter your sentance\")\n",
        "v= set(\"aeiouAEIOU\")\n",
        "count = 0\n",
        "for alphabet in s:\n",
        "  if alphabet in v:\n",
        "     count = count + 1\n",
        "print(\"No. of vowels :\", count)"
      ],
      "metadata": {
        "colab": {
          "base_uri": "https://localhost:8080/"
        },
        "id": "EWIU8nbJ0Btn",
        "outputId": "b590f1cc-b000-4805-b051-4a128cf9ce62"
      },
      "execution_count": 14,
      "outputs": [
        {
          "output_type": "stream",
          "name": "stdout",
          "text": [
            "enter your sentance i love to learn\n",
            "No. of vowels : 6\n"
          ]
        }
      ]
    },
    {
      "cell_type": "code",
      "source": [
        "#print the reversed string using string slicing.\n",
        "s=input(\"enter your word \")\n",
        "s[::-1]"
      ],
      "metadata": {
        "colab": {
          "base_uri": "https://localhost:8080/",
          "height": 53
        },
        "id": "cYelo-I2ypuu",
        "outputId": "91afaa6a-f868-4e56-874d-1f62ae71f6e4"
      },
      "execution_count": 6,
      "outputs": [
        {
          "name": "stdout",
          "output_type": "stream",
          "text": [
            "enter your word vuu\n"
          ]
        },
        {
          "output_type": "execute_result",
          "data": {
            "text/plain": [
              "'uuv'"
            ],
            "application/vnd.google.colaboratory.intrinsic+json": {
              "type": "string"
            }
          },
          "metadata": {},
          "execution_count": 6
        }
      ]
    },
    {
      "cell_type": "code",
      "source": [
        "#checks if string is a palindrome\n",
        "s=input(\"enter your word\")\n",
        "if(s==(s[::-1])):\n",
        "  print(s,\"is palindrome\")\n",
        "else:\n",
        "  print(s,\"is not palindrome\")"
      ],
      "metadata": {
        "colab": {
          "base_uri": "https://localhost:8080/"
        },
        "id": "vPDJKosr2yfM",
        "outputId": "ae2e1c18-1721-418d-ba08-4e706176e7f0"
      },
      "execution_count": 10,
      "outputs": [
        {
          "output_type": "stream",
          "name": "stdout",
          "text": [
            "enter your wordwow\n",
            "wow is palindrome\n"
          ]
        }
      ]
    },
    {
      "cell_type": "code",
      "source": [
        "#removes all the spaces from string\n",
        "s=input(\"enter your word\")\n",
        "s.replace(\" \",\"\")"
      ],
      "metadata": {
        "colab": {
          "base_uri": "https://localhost:8080/",
          "height": 53
        },
        "id": "Td2QSDsx4qqP",
        "outputId": "3ec53c58-b0be-43fa-b44f-c142160ae701"
      },
      "execution_count": 11,
      "outputs": [
        {
          "name": "stdout",
          "output_type": "stream",
          "text": [
            "enter your wordyachna is good\n"
          ]
        },
        {
          "output_type": "execute_result",
          "data": {
            "text/plain": [
              "'yachnaisgood'"
            ],
            "application/vnd.google.colaboratory.intrinsic+json": {
              "type": "string"
            }
          },
          "metadata": {},
          "execution_count": 11
        }
      ]
    },
    {
      "cell_type": "code",
      "source": [],
      "metadata": {
        "id": "z52LIuCA5XmK"
      },
      "execution_count": null,
      "outputs": []
    }
  ]
}